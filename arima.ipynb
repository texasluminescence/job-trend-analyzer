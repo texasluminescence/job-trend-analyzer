{
  "nbformat": 4,
  "nbformat_minor": 0,
  "metadata": {
    "colab": {
      "provenance": []
    },
    "kernelspec": {
      "name": "python3",
      "display_name": "Python 3"
    },
    "language_info": {
      "name": "python"
    }
  },
  "cells": [
    {
      "cell_type": "code",
      "execution_count": 9,
      "metadata": {
        "colab": {
          "base_uri": "https://localhost:8080/",
          "height": 74
        },
        "id": "86vQYb9A5Opp",
        "outputId": "bc4b5ce2-1a16-4db9-bbbe-8978c26acc64"
      },
      "outputs": [
        {
          "output_type": "display_data",
          "data": {
            "text/plain": [
              "<IPython.core.display.HTML object>"
            ],
            "text/html": [
              "\n",
              "     <input type=\"file\" id=\"files-3bb30406-d83e-4ac8-9f59-04e45fbfabaa\" name=\"files[]\" multiple disabled\n",
              "        style=\"border:none\" />\n",
              "     <output id=\"result-3bb30406-d83e-4ac8-9f59-04e45fbfabaa\">\n",
              "      Upload widget is only available when the cell has been executed in the\n",
              "      current browser session. Please rerun this cell to enable.\n",
              "      </output>\n",
              "      <script>// Copyright 2017 Google LLC\n",
              "//\n",
              "// Licensed under the Apache License, Version 2.0 (the \"License\");\n",
              "// you may not use this file except in compliance with the License.\n",
              "// You may obtain a copy of the License at\n",
              "//\n",
              "//      http://www.apache.org/licenses/LICENSE-2.0\n",
              "//\n",
              "// Unless required by applicable law or agreed to in writing, software\n",
              "// distributed under the License is distributed on an \"AS IS\" BASIS,\n",
              "// WITHOUT WARRANTIES OR CONDITIONS OF ANY KIND, either express or implied.\n",
              "// See the License for the specific language governing permissions and\n",
              "// limitations under the License.\n",
              "\n",
              "/**\n",
              " * @fileoverview Helpers for google.colab Python module.\n",
              " */\n",
              "(function(scope) {\n",
              "function span(text, styleAttributes = {}) {\n",
              "  const element = document.createElement('span');\n",
              "  element.textContent = text;\n",
              "  for (const key of Object.keys(styleAttributes)) {\n",
              "    element.style[key] = styleAttributes[key];\n",
              "  }\n",
              "  return element;\n",
              "}\n",
              "\n",
              "// Max number of bytes which will be uploaded at a time.\n",
              "const MAX_PAYLOAD_SIZE = 100 * 1024;\n",
              "\n",
              "function _uploadFiles(inputId, outputId) {\n",
              "  const steps = uploadFilesStep(inputId, outputId);\n",
              "  const outputElement = document.getElementById(outputId);\n",
              "  // Cache steps on the outputElement to make it available for the next call\n",
              "  // to uploadFilesContinue from Python.\n",
              "  outputElement.steps = steps;\n",
              "\n",
              "  return _uploadFilesContinue(outputId);\n",
              "}\n",
              "\n",
              "// This is roughly an async generator (not supported in the browser yet),\n",
              "// where there are multiple asynchronous steps and the Python side is going\n",
              "// to poll for completion of each step.\n",
              "// This uses a Promise to block the python side on completion of each step,\n",
              "// then passes the result of the previous step as the input to the next step.\n",
              "function _uploadFilesContinue(outputId) {\n",
              "  const outputElement = document.getElementById(outputId);\n",
              "  const steps = outputElement.steps;\n",
              "\n",
              "  const next = steps.next(outputElement.lastPromiseValue);\n",
              "  return Promise.resolve(next.value.promise).then((value) => {\n",
              "    // Cache the last promise value to make it available to the next\n",
              "    // step of the generator.\n",
              "    outputElement.lastPromiseValue = value;\n",
              "    return next.value.response;\n",
              "  });\n",
              "}\n",
              "\n",
              "/**\n",
              " * Generator function which is called between each async step of the upload\n",
              " * process.\n",
              " * @param {string} inputId Element ID of the input file picker element.\n",
              " * @param {string} outputId Element ID of the output display.\n",
              " * @return {!Iterable<!Object>} Iterable of next steps.\n",
              " */\n",
              "function* uploadFilesStep(inputId, outputId) {\n",
              "  const inputElement = document.getElementById(inputId);\n",
              "  inputElement.disabled = false;\n",
              "\n",
              "  const outputElement = document.getElementById(outputId);\n",
              "  outputElement.innerHTML = '';\n",
              "\n",
              "  const pickedPromise = new Promise((resolve) => {\n",
              "    inputElement.addEventListener('change', (e) => {\n",
              "      resolve(e.target.files);\n",
              "    });\n",
              "  });\n",
              "\n",
              "  const cancel = document.createElement('button');\n",
              "  inputElement.parentElement.appendChild(cancel);\n",
              "  cancel.textContent = 'Cancel upload';\n",
              "  const cancelPromise = new Promise((resolve) => {\n",
              "    cancel.onclick = () => {\n",
              "      resolve(null);\n",
              "    };\n",
              "  });\n",
              "\n",
              "  // Wait for the user to pick the files.\n",
              "  const files = yield {\n",
              "    promise: Promise.race([pickedPromise, cancelPromise]),\n",
              "    response: {\n",
              "      action: 'starting',\n",
              "    }\n",
              "  };\n",
              "\n",
              "  cancel.remove();\n",
              "\n",
              "  // Disable the input element since further picks are not allowed.\n",
              "  inputElement.disabled = true;\n",
              "\n",
              "  if (!files) {\n",
              "    return {\n",
              "      response: {\n",
              "        action: 'complete',\n",
              "      }\n",
              "    };\n",
              "  }\n",
              "\n",
              "  for (const file of files) {\n",
              "    const li = document.createElement('li');\n",
              "    li.append(span(file.name, {fontWeight: 'bold'}));\n",
              "    li.append(span(\n",
              "        `(${file.type || 'n/a'}) - ${file.size} bytes, ` +\n",
              "        `last modified: ${\n",
              "            file.lastModifiedDate ? file.lastModifiedDate.toLocaleDateString() :\n",
              "                                    'n/a'} - `));\n",
              "    const percent = span('0% done');\n",
              "    li.appendChild(percent);\n",
              "\n",
              "    outputElement.appendChild(li);\n",
              "\n",
              "    const fileDataPromise = new Promise((resolve) => {\n",
              "      const reader = new FileReader();\n",
              "      reader.onload = (e) => {\n",
              "        resolve(e.target.result);\n",
              "      };\n",
              "      reader.readAsArrayBuffer(file);\n",
              "    });\n",
              "    // Wait for the data to be ready.\n",
              "    let fileData = yield {\n",
              "      promise: fileDataPromise,\n",
              "      response: {\n",
              "        action: 'continue',\n",
              "      }\n",
              "    };\n",
              "\n",
              "    // Use a chunked sending to avoid message size limits. See b/62115660.\n",
              "    let position = 0;\n",
              "    do {\n",
              "      const length = Math.min(fileData.byteLength - position, MAX_PAYLOAD_SIZE);\n",
              "      const chunk = new Uint8Array(fileData, position, length);\n",
              "      position += length;\n",
              "\n",
              "      const base64 = btoa(String.fromCharCode.apply(null, chunk));\n",
              "      yield {\n",
              "        response: {\n",
              "          action: 'append',\n",
              "          file: file.name,\n",
              "          data: base64,\n",
              "        },\n",
              "      };\n",
              "\n",
              "      let percentDone = fileData.byteLength === 0 ?\n",
              "          100 :\n",
              "          Math.round((position / fileData.byteLength) * 100);\n",
              "      percent.textContent = `${percentDone}% done`;\n",
              "\n",
              "    } while (position < fileData.byteLength);\n",
              "  }\n",
              "\n",
              "  // All done.\n",
              "  yield {\n",
              "    response: {\n",
              "      action: 'complete',\n",
              "    }\n",
              "  };\n",
              "}\n",
              "\n",
              "scope.google = scope.google || {};\n",
              "scope.google.colab = scope.google.colab || {};\n",
              "scope.google.colab._files = {\n",
              "  _uploadFiles,\n",
              "  _uploadFilesContinue,\n",
              "};\n",
              "})(self);\n",
              "</script> "
            ]
          },
          "metadata": {}
        },
        {
          "output_type": "stream",
          "name": "stdout",
          "text": [
            "Saving DataScience_salaries_2024.csv to DataScience_salaries_2024 (1).csv\n"
          ]
        }
      ],
      "source": [
        "from google.colab import files\n",
        "\n",
        "\n",
        "dataset = files.upload()"
      ]
    },
    {
      "cell_type": "code",
      "source": [
        "import pandas as pd\n",
        "import numpy as np\n",
        "import io\n",
        "\n",
        "df = pd.read_csv(io.BytesIO(dataset['DataScience_salaries_2024 (1).csv']))\n",
        "# save only required columns (work year and USD salary)\n",
        "df.drop([\"experience_level\", \"employment_type\", \"job_title\", \"salary\", \"salary_currency\", \"employee_residence\", \"remote_ratio\", \"company_location\", \"company_size\"], axis=1, inplace=True)\n",
        "df.dropna()\n",
        "print(df)"
      ],
      "metadata": {
        "colab": {
          "base_uri": "https://localhost:8080/"
        },
        "id": "3r2yPRAS6gcN",
        "outputId": "ff1e5a8c-56bf-4504-8f47-9cbf885a864c"
      },
      "execution_count": 10,
      "outputs": [
        {
          "output_type": "stream",
          "name": "stdout",
          "text": [
            "       work_year  salary_in_usd\n",
            "0           2021          40038\n",
            "1           2021          36259\n",
            "2           2020          35735\n",
            "3           2021          77364\n",
            "4           2022          95386\n",
            "...          ...            ...\n",
            "14833       2022          15000\n",
            "14834       2020          15000\n",
            "14835       2021          15000\n",
            "14836       2022          15000\n",
            "14837       2020          15966\n",
            "\n",
            "[14838 rows x 2 columns]\n"
          ]
        }
      ]
    },
    {
      "cell_type": "code",
      "source": [
        "num_jobs = df['work_year'].value_counts()\n",
        "print(num_jobs)\n",
        "# unevenly distributed jobs in terms of time -> implement weighted salary aggregation\n",
        "# underrepresented years (2020-2022) will be weighted heavier; calculate frequency weights for each year\n",
        "total_jobs = num_jobs.sum()\n",
        "weights = total_jobs / (5 * num_jobs)\n",
        "df[\"weight\"] = df[\"work_year\"].map(weights)\n",
        "print(df)\n",
        "\n",
        "\n"
      ],
      "metadata": {
        "colab": {
          "base_uri": "https://localhost:8080/"
        },
        "id": "JC7L916c_tkk",
        "outputId": "e52b0239-b62c-4d3f-bc6c-95fb98d8e6be"
      },
      "execution_count": 11,
      "outputs": [
        {
          "output_type": "stream",
          "name": "stdout",
          "text": [
            "work_year\n",
            "2023    8519\n",
            "2024    4374\n",
            "2022    1652\n",
            "2021     218\n",
            "2020      75\n",
            "Name: count, dtype: int64\n",
            "       work_year  salary_in_usd     weight\n",
            "0           2021          40038  13.612844\n",
            "1           2021          36259  13.612844\n",
            "2           2020          35735  39.568000\n",
            "3           2021          77364  13.612844\n",
            "4           2022          95386   1.796368\n",
            "...          ...            ...        ...\n",
            "14833       2022          15000   1.796368\n",
            "14834       2020          15000  39.568000\n",
            "14835       2021          15000  13.612844\n",
            "14836       2022          15000   1.796368\n",
            "14837       2020          15966  39.568000\n",
            "\n",
            "[14838 rows x 3 columns]\n"
          ]
        }
      ]
    },
    {
      "cell_type": "code",
      "source": [
        "# add timestamps to each job with uniform quarterly distribution to better fit an ARIMA model\n",
        "np.random.seed(12) # random nums are now reproducible\n",
        "df[\"month\"] = np.random.choice([\"January\", \"February\", \"March\", \"April\", \"May\", \"June\", \"July\", \"August\", \"September\", \"October\", \"November\", \"December\"], size=len(df))\n",
        "# YYYY-Q timestamp format\n",
        "df[\"job_date\"] = df[\"work_year\"].astype(str) + \"-\" + df[\"month\"]\n",
        "# use datetime type\n",
        "numbered_per_month = {\"January\": \"-01\", \"February\": \"-02\", \"March\": \"-03\", \"April\": \"-04\", \"May\": \"-05\", \"June\": \"-06\", \"July\": \"-07\", \"August\":\"-08\", \"September\":\"-09\", \"October\": \"-10\", \"November\": \"-11\", \"December\":\"-12\"}\n",
        "df[\"job_date\"] = pd.to_datetime(df[\"work_year\"].astype(str) + df[\"month\"].map(numbered_per_month) + \"-01\")\n",
        "# sort over time\n",
        "df = df.sort_values(by=\"job_date\")\n",
        "df.drop([\"work_year\", \"month\"], axis = 1, inplace = True)\n",
        "print(df)\n"
      ],
      "metadata": {
        "colab": {
          "base_uri": "https://localhost:8080/"
        },
        "id": "lJTSEAznDRvv",
        "outputId": "f9a2a63e-090b-4754-d1d4-94a7409ea887"
      },
      "execution_count": 12,
      "outputs": [
        {
          "output_type": "stream",
          "name": "stdout",
          "text": [
            "       salary_in_usd     weight   job_date\n",
            "11754          95000  39.568000 2020-01-01\n",
            "924           260000  39.568000 2020-01-01\n",
            "14342          54742  39.568000 2020-01-01\n",
            "101           450000  39.568000 2020-01-01\n",
            "14462          50180  39.568000 2020-01-01\n",
            "...              ...        ...        ...\n",
            "13207          73100   0.678464 2024-12-01\n",
            "11132         102000   0.678464 2024-12-01\n",
            "13196          73100   0.678464 2024-12-01\n",
            "14195          50700   0.678464 2024-12-01\n",
            "10439         110000   0.678464 2024-12-01\n",
            "\n",
            "[14838 rows x 3 columns]\n"
          ]
        }
      ]
    },
    {
      "cell_type": "code",
      "source": [
        "# Group by date and compute weighted salary mean\n",
        "df_grouped = df.groupby(\"job_date\").apply(lambda x: np.average(x[\"salary_in_usd\"], weights=x[\"weight\"])).reset_index()\n",
        "df_grouped.columns = [\"date\", \"weighted_salary\"]\n",
        "\n",
        "# Display final dataset\n",
        "print(df_grouped)"
      ],
      "metadata": {
        "id": "T98bDdygf_x9",
        "colab": {
          "base_uri": "https://localhost:8080/"
        },
        "outputId": "6849384c-3eca-4bfd-950e-01a029119643"
      },
      "execution_count": 13,
      "outputs": [
        {
          "output_type": "stream",
          "name": "stdout",
          "text": [
            "         date  weighted_salary\n",
            "0  2020-01-01    147631.500000\n",
            "1  2020-02-01     94478.250000\n",
            "2  2020-03-01     92471.833333\n",
            "3  2020-04-01     94019.000000\n",
            "4  2020-05-01    135213.250000\n",
            "5  2020-06-01     72379.500000\n",
            "6  2020-07-01     69616.454545\n",
            "7  2020-08-01    124042.222222\n",
            "8  2020-09-01     96378.428571\n",
            "9  2020-10-01     69224.500000\n",
            "10 2020-11-01     75906.000000\n",
            "11 2020-12-01    101499.166667\n",
            "12 2021-01-01     97247.761905\n",
            "13 2021-02-01     69463.500000\n",
            "14 2021-03-01     89935.307692\n",
            "15 2021-04-01    107541.714286\n",
            "16 2021-05-01     91186.500000\n",
            "17 2021-06-01    106586.875000\n",
            "18 2021-07-01    120167.125000\n",
            "19 2021-08-01     92305.222222\n",
            "20 2021-09-01     98123.333333\n",
            "21 2021-10-01     90691.600000\n",
            "22 2021-11-01    103970.827586\n",
            "23 2021-12-01    121415.181818\n",
            "24 2022-01-01    135270.298701\n",
            "25 2022-02-01    133465.808696\n",
            "26 2022-03-01    137456.828358\n",
            "27 2022-04-01    138636.760000\n",
            "28 2022-05-01    133984.187970\n",
            "29 2022-06-01    141798.721429\n",
            "30 2022-07-01    138052.035971\n",
            "31 2022-08-01    126965.689655\n",
            "32 2022-09-01    132933.021583\n",
            "33 2022-10-01    131299.462585\n",
            "34 2022-11-01    132066.777778\n",
            "35 2022-12-01    130388.484615\n",
            "36 2023-01-01    157485.261872\n",
            "37 2023-02-01    153798.781923\n",
            "38 2023-03-01    151826.390476\n",
            "39 2023-04-01    155981.047684\n",
            "40 2023-05-01    151988.754772\n",
            "41 2023-06-01    153518.924716\n",
            "42 2023-07-01    149759.958982\n",
            "43 2023-08-01    152376.541209\n",
            "44 2023-09-01    156311.210145\n",
            "45 2023-10-01    157883.482906\n",
            "46 2023-11-01    153655.459302\n",
            "47 2023-12-01    150147.655028\n",
            "48 2024-01-01    159366.177326\n",
            "49 2024-02-01    152105.060519\n",
            "50 2024-03-01    151691.465241\n",
            "51 2024-04-01    148346.243697\n",
            "52 2024-05-01    155239.890909\n",
            "53 2024-06-01    151702.336088\n",
            "54 2024-07-01    152093.707447\n",
            "55 2024-08-01    148479.367901\n",
            "56 2024-09-01    149601.087819\n",
            "57 2024-10-01    156504.555556\n",
            "58 2024-11-01    148043.167568\n",
            "59 2024-12-01    145079.514706\n"
          ]
        },
        {
          "output_type": "stream",
          "name": "stderr",
          "text": [
            "<ipython-input-13-17eecffc6f37>:2: DeprecationWarning: DataFrameGroupBy.apply operated on the grouping columns. This behavior is deprecated, and in a future version of pandas the grouping columns will be excluded from the operation. Either pass `include_groups=False` to exclude the groupings or explicitly select the grouping columns after groupby to silence this warning.\n",
            "  df_grouped = df.groupby(\"job_date\").apply(lambda x: np.average(x[\"salary_in_usd\"], weights=x[\"weight\"])).reset_index()\n"
          ]
        }
      ]
    },
    {
      "cell_type": "code",
      "source": [
        "import matplotlib.pyplot as plt\n",
        "plt.figure(figsize=(10, 5))\n",
        "plt.plot(df_grouped['date'], df_grouped['weighted_salary'], marker='o', linestyle='-')\n",
        "\n",
        "# Labels and title\n",
        "plt.xlabel('Date')\n",
        "plt.ylabel('Salary')\n",
        "plt.title('Time Series Line Plot')\n",
        "plt.xticks(rotation=45)\n",
        "plt.grid()"
      ],
      "metadata": {
        "colab": {
          "base_uri": "https://localhost:8080/",
          "height": 508
        },
        "id": "EnJBqK2tmOWt",
        "outputId": "a3609494-10e6-4847-a446-b53c1862e0f3"
      },
      "execution_count": 14,
      "outputs": [
        {
          "output_type": "display_data",
          "data": {
            "text/plain": [
              "<Figure size 1000x500 with 1 Axes>"
            ],
            "image/png": "[encoded data removed]"
          },
          "metadata": {}
        }
      ]
    }
  ]
}