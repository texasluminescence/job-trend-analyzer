{
 "cells": [
  {
   "cell_type": "code",
   "execution_count": 2,
   "metadata": {},
   "outputs": [],
   "source": [
    "import pandas as pd"
   ]
  },
  {
   "cell_type": "code",
   "execution_count": null,
   "metadata": {},
   "outputs": [],
   "source": [
    "glassdoor_df = pd.read_csv('Glassdoor job listings information.csv')"
   ]
  },
  {
   "cell_type": "code",
   "execution_count": 4,
   "metadata": {},
   "outputs": [
    {
     "name": "stdout",
     "output_type": "stream",
     "text": [
      "Index(['url', 'company_url_overview', 'company_name', 'company_rating',\n",
      "       'job_title', 'job_location', 'job_overview', 'company_headquarters',\n",
      "       'company_founded_year', 'company_industry', 'company_revenue',\n",
      "       'company_size', 'company_type', 'company_sector',\n",
      "       'percentage_that_recommend_company_to_a friend',\n",
      "       'percentage_that_approve_of_ceo', 'company_ceo',\n",
      "       'company_career_opportunities_rating',\n",
      "       'company_comp_and_benefits_rating', 'company_culture_and_values_rating',\n",
      "       'company_senior_management_rating', 'company_work/life_balance_rating',\n",
      "       'reviews_by_same_job_pros', 'reviews_by_same_job_cons',\n",
      "       'company_benefits_rating', 'company_benefits_employer_summary',\n",
      "       'employee_benefit_reviews', 'job_posting_id', 'company_id',\n",
      "       'job_application_link', 'company_website', 'pay_range_glassdoor_est',\n",
      "       'pay_median_glassdoor', 'pay_range_employer_est__DUPLICATE',\n",
      "       'pay_median_employer', 'pay_range_currency', 'pay_type',\n",
      "       'discovery_input'],\n",
      "      dtype='object')\n"
     ]
    }
   ],
   "source": [
    "print(glassdoor_df.columns)"
   ]
  },
  {
   "cell_type": "code",
   "execution_count": 6,
   "metadata": {},
   "outputs": [],
   "source": [
    "glassdoor_small_df = pd.read_csv('Glassdoor job listings information copy.csv')"
   ]
  },
  {
   "cell_type": "code",
   "execution_count": 7,
   "metadata": {},
   "outputs": [
    {
     "data": {
      "text/plain": [
       "Index(['company_rating', 'job_title', 'job_location', 'company_industry',\n",
       "       'company_size', 'company_type', 'company_sector',\n",
       "       'company_career_opportunities_rating',\n",
       "       'company_comp_and_benefits_rating', 'company_culture_and_values_rating',\n",
       "       'company_work/life_balance_rating', 'reviews_by_same_job_pros',\n",
       "       'reviews_by_same_job_cons', 'employee_benefit_reviews'],\n",
       "      dtype='object')"
      ]
     },
     "execution_count": 7,
     "metadata": {},
     "output_type": "execute_result"
    }
   ],
   "source": [
    "glassdoor_small_df.columns"
   ]
  },
  {
   "cell_type": "code",
   "execution_count": 15,
   "metadata": {},
   "outputs": [],
   "source": [
    "# Review Sentiment Analysis\n",
    "#   - 'reviews_by_same_job_cons', 'reviews_by_same_job_pros', 'company_benefits_employer_summary', 'employee_benefit_reviews'"
   ]
  },
  {
   "cell_type": "code",
   "execution_count": 38,
   "metadata": {},
   "outputs": [],
   "source": [
    "selected_columns = glassdoor_df[['reviews_by_same_job_cons', 'reviews_by_same_job_pros', 'company_benefits_employer_summary', 'employee_benefit_reviews']]\n",
    "# print(selected_columns.head())"
   ]
  },
  {
   "cell_type": "code",
   "execution_count": 22,
   "metadata": {},
   "outputs": [
    {
     "data": {
      "text/plain": [
       "(327, 4)"
      ]
     },
     "execution_count": 22,
     "metadata": {},
     "output_type": "execute_result"
    }
   ],
   "source": [
    "temp_df = selected_columns.dropna(subset=['reviews_by_same_job_cons', 'reviews_by_same_job_pros', 'company_benefits_employer_summary', 'employee_benefit_reviews'], inplace=False)\n",
    "temp_df.shape"
   ]
  },
  {
   "cell_type": "code",
   "execution_count": 33,
   "metadata": {},
   "outputs": [
    {
     "data": {
      "text/plain": [
       "(1000, 4)"
      ]
     },
     "execution_count": 33,
     "metadata": {},
     "output_type": "execute_result"
    }
   ],
   "source": [
    "selected_columns.shape"
   ]
  },
  {
   "cell_type": "code",
   "execution_count": 39,
   "metadata": {},
   "outputs": [
    {
     "name": "stdout",
     "output_type": "stream",
     "text": [
      "                                                                                                                                                                                                                                                   reviews_by_same_job_cons  \\\n",
      "0                                                        [\"No benefits for VCC contratcs.\",\"Less pay\",\"no work life balance at all\",\"Layoffs, manager was arrogant, HR was not responsive, over workload\",\"Toxic culture with a \\\"you are lucky to be employed\\\" approach\"]   \n",
      "1  [\"No work life balance and some difficult colleagues\",\"Unrealistic expectations and bad culture\",\"Bad benefits.\",\"Low pay and annoying regulatory hurdles\",\"4. Terrible pressure, so attrition rate is very high, even high salary does not ensure good people to stay\"]   \n",
      "2                                                                            [\"No cons but the fact is the people are still working\",\"Low pay\",\"Work life balance is a challenge, good amount of nepotism\",\"Benefits and Hike is less\",\"Bad working hours, bad leadership\"]   \n",
      "3                                                                         [\"You get too much work life balance and no learning\",\"Salary is low and performance is not rewarded\",\"bad work culture\",\"Less benefits are received.\",\"bad management forcing return to office\"]   \n",
      "4  [\"No work life balance and some difficult colleagues\",\"Unrealistic expectations and bad culture\",\"Bad benefits.\",\"Low pay and annoying regulatory hurdles\",\"4. Terrible pressure, so attrition rate is very high, even high salary does not ensure good people to stay\"]   \n",
      "\n",
      "                                                                                                                                                                                      reviews_by_same_job_pros  \\\n",
      "0  [\"Great benefits and that’s it\",\"The pay is good\",\"Flexible and good work life balance\",\"If your manager and team are great, it can be a good company to work for.\",\"Great culture and can be sustainabrl\"]   \n",
      "1                                                 [\"Good Work Life balance and\",\"Culture is good and relatively flat\",\"Good benefits with a culture\",\"Good pay and leaves\",\"Great people and office location\"]   \n",
      "2                                      [\"The people are great.\",\"Competitive pay\",\"Good working environment, Work life balance.\",\"Benefits are good, There is opportunity if you can find the time to apply.\"]   \n",
      "3                                    [\"flexible and good work life balance\",\"Good Salary and chill environment\",\"Good work culture and policies\",\"Good benefits and leave policy\",\"good management and team.\"]   \n",
      "4                                                 [\"Good Work Life balance and\",\"Culture is good and relatively flat\",\"Good benefits with a culture\",\"Good pay and leaves\",\"Great people and office location\"]   \n",
      "\n",
      "                                                                                                                                                                                                                                                                                                                                                                                                                                                                                                                                                                                                                                                                                                                                                     company_benefits_employer_summary  \\\n",
      "0                                                                                                                                                                                                                                                                                                                                                                                                                                                                                                                                                                                                                                                                                                                                                                                        \n",
      "1  Citi makes a significant investment to provide valuable benefit programs for all employees around the world.  These include core health, insurance and retirement programs as well as supplementary programs.\\r\\nOur global benefits philosophy requires that programs should deliver quality benefits and be simple to understand, to access and communicate. Our Live Well at Citi Global Health Strategy, offers best in class wellness programs, tools and resources to help employees lead healthier lives. We strive to inspire accountability, improve health and productivity while managing our healthcare costs. Our programs are designed to support Citi’s values and help to attract, motivate and retain a diverse workforce within a collaborative work environment.   \n",
      "2                                                                                                                                                                                                                                                                                                                                                                                                                                                                                                                                                                                                                                                                                                                                                                                        \n",
      "3                                                                                                                                                                                             We care about your health and happiness and we want you to be at your best. At Oracle, you’ll enjoy a competitive benefits package with a variety of customizable medical options, savings plans, and wellness programs.\\nWe also don’t think your life should be on hold from Monday to Friday. Generous amounts of time off, flexible work options, and lots of fun employee activities are all an important part of leading a balanced a life.\\nHear about flexibility from Leor, one of Oracle’s Karate Club black belts—and make sure to check out some reviews from our employees.   \n",
      "4  Citi makes a significant investment to provide valuable benefit programs for all employees around the world.  These include core health, insurance and retirement programs as well as supplementary programs.\\r\\nOur global benefits philosophy requires that programs should deliver quality benefits and be simple to understand, to access and communicate. Our Live Well at Citi Global Health Strategy, offers best in class wellness programs, tools and resources to help employees lead healthier lives. We strive to inspire accountability, improve health and productivity while managing our healthcare costs. Our programs are designed to support Citi’s values and help to attract, motivate and retain a diverse workforce within a collaborative work environment.   \n",
      "\n",
      "                                                                                                                                                                                                                                                                                                                                                                                                                                                                                                                                                                                                                                                                                               employee_benefit_reviews  \n",
      "0  [\"Full benefits and scholarship options for career advancement are nice. \",\"Benefits are OKAY... Considering they are one of 5 largest companies in the world, they could be a lot better when it comes to monthly premiums, 401k matching, and deductible amounts. If you work as a driver or warehouse worker for more than a year, you can be almost certain that you will be using your medical insurance. No sick days,  all of your PTO accrues by June for the whole year, and its very hard save it for when you really need it during 6-10 weeks of peak season working mandatory 60 hour weeks. \",\"Car rentals, hotels, and flights are extremely cheap when searching from internal Amazon benefit site\"]  \n",
      "1                                                                                                                                                                                                                                                                                                                                                                                                                                                                                                                                                             [\"Healthcare is offered at higher price tag\",\"Health insurance and PTO vacation \",\"Vacation time was reasonable but did not like specific dates blocked\"]  \n",
      "2                                                                                                                                                                                                                                                                                                                                                                                                                                                                                                                                                                                                      [\"It was just fine, nothing special.\",\"401 k match is great\",\"Limited 401k with matching only once per year.  \"]  \n",
      "3                                                                                                                                                                                                                                                                                                                                                                                                                                                                                                                                                                              [\"good perks, benefits in line with market, stock purchasing\",\"Good average food nice !\",\"Employees pay low cost for health benefits. \"]  \n",
      "4                                                                                                                                                                                                                                                                                                                                                                                                                                                                                                                                                             [\"Healthcare is offered at higher price tag\",\"Health insurance and PTO vacation \",\"Vacation time was reasonable but did not like specific dates blocked\"]  \n"
     ]
    }
   ],
   "source": [
    "selected_columns_filled = selected_columns.fillna('')\n",
    "print(selected_columns_filled.head())"
   ]
  },
  {
   "cell_type": "code",
   "execution_count": 40,
   "metadata": {},
   "outputs": [],
   "source": [
    "selected_columns_filled.to_csv('selected_columns_filled.csv', index=False)"
   ]
  }
 ],
 "metadata": {
  "kernelspec": {
   "display_name": "Python 3",
   "language": "python",
   "name": "python3"
  },
  "language_info": {
   "codemirror_mode": {
    "name": "ipython",
    "version": 3
   },
   "file_extension": ".py",
   "mimetype": "text/x-python",
   "name": "python",
   "nbconvert_exporter": "python",
   "pygments_lexer": "ipython3",
   "version": "3.11.9"
  }
 },
 "nbformat": 4,
 "nbformat_minor": 2
}
